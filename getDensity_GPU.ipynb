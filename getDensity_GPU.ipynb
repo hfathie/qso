{
  "nbformat": 4,
  "nbformat_minor": 0,
  "metadata": {
    "colab": {
      "provenance": [],
      "authorship_tag": "ABX9TyNquzNeJruLLlCF11wQIXlI",
      "include_colab_link": true
    },
    "kernelspec": {
      "name": "python3",
      "display_name": "Python 3"
    },
    "language_info": {
      "name": "python"
    },
    "accelerator": "GPU",
    "gpuClass": "standard"
  },
  "cells": [
    {
      "cell_type": "markdown",
      "metadata": {
        "id": "view-in-github",
        "colab_type": "text"
      },
      "source": [
        "<a href=\"https://colab.research.google.com/github/hfathie/qso/blob/master/getDensity_GPU.ipynb\" target=\"_parent\"><img src=\"https://colab.research.google.com/assets/colab-badge.svg\" alt=\"Open In Colab\"/></a>"
      ]
    },
    {
      "cell_type": "code",
      "execution_count": 17,
      "metadata": {
        "colab": {
          "base_uri": "https://localhost:8080/"
        },
        "id": "4tbhZJTVDePZ",
        "outputId": "f3da979e-8664-4934-d460-9862429ec9d3"
      },
      "outputs": [
        {
          "output_type": "stream",
          "name": "stdout",
          "text": [
            "Overwriting test.cu\n"
          ]
        }
      ],
      "source": [
        "%%writefile test.cu\n",
        "#include <iostream>\n",
        "#include <fstream>\n",
        "#include <cmath>\n",
        "#include <string>\n",
        "#include <vector>\n",
        "#include <sstream>\n",
        "using namespace std;\n",
        "\n",
        "const int N = 131504;\n",
        "const float my_pi = 3.141592f;\n",
        "\n",
        "__global__ void getDensity(float *x, float *y, float *z, float *mass,\n",
        "                           float *rho, float *h){\n",
        "\n",
        "  int i = threadIdx.x + blockIdx.x +blockDim.x;\n",
        "\n",
        "  if(i < N){\n",
        "\n",
        "    float dx, dy, dz, rr, hij, sig, q, hij3;\n",
        "    float WIij;\n",
        "    float ss = 0.0f;\n",
        "\n",
        "    for(int j = 0; j < N; j++){\n",
        "      dx = x[i] - x[j];\n",
        "      dy = y[i] - y[j];\n",
        "      dz = z[i] - z[j];\n",
        "\n",
        "      rr = sqrt(dx*dx + dy*dy + dz*dz);\n",
        "      hij = 0.5f * (h[i] + h[j]);\n",
        "\n",
        "      if(rr <= 2.0f * hij){\n",
        "\n",
        "        sig = 1.0 / my_pi;\n",
        "        q = rr/hij;\n",
        "        hij3 = hij * hij * hij;\n",
        "        WIij = 0.0f;\n",
        "\n",
        "        if(q <= 1.0){\n",
        "          WIij = sig/hij3 * (1.0f - (3.0f/2.0f)*q*q + (3.0f/4.0f)*q*q*q);\n",
        "        }\n",
        "\n",
        "        if((q > 1.0f) && (q <= 2.0)){\n",
        "          WIij = sig/hij3 * (1.0f/4.0f) * (2.0f - q)*(2.0f - q)*(2.0f - q);\n",
        "        }\n",
        "\n",
        "        ss += mass[j] * WIij; \n",
        "      }\n",
        "    }\n",
        "    rho[i] = ss;\n",
        "  }\n",
        "\n",
        "}\n",
        "\n",
        "\n",
        "int main(){\n",
        "\n",
        "  // Reading Hydra file.\n",
        "  string fname = \"Hydra_130k.csv\";\n",
        "\n",
        "  vector<vector<string>> content;\n",
        "  vector<string> row;\n",
        "  string line, word;\n",
        "  \n",
        "  fstream file (fname, ios::in);\n",
        "  if(file.is_open())\n",
        "  {\n",
        "  while(getline(file, line))\n",
        "  {\n",
        "  row.clear();\n",
        "  \n",
        "  stringstream str(line);\n",
        "  \n",
        "  while(getline(str, word, ','))\n",
        "  row.push_back(word);\n",
        "  content.push_back(row);\n",
        "  }\n",
        "  }\n",
        "  else\n",
        "  cout<<\"Could not open the file\\n\";\n",
        "\n",
        "  float *x,*y,*z, *h, *mass, *rho;\n",
        "  float *d_x,*d_y,*d_z, *d_h, *d_mass, *d_rho;\n",
        "\n",
        "  x = new float[N];\n",
        "  y = new float[N];\n",
        "  z = new float[N];\n",
        "\n",
        "  rho = new float[N];\n",
        "  h = new float[N];\n",
        "  mass = new float[N];\n",
        "\n",
        "  // 0  1  2  3   4   5    6   7  8  9  10\n",
        "  // x, y, z, vx, vy, vz, rho, P, c, h, m.\n",
        "\n",
        "  for(int i=0; i<N; i++){\n",
        "\n",
        "    x[i] = stof(content[i][0]);\n",
        "    y[i] = stof(content[i][1]);\n",
        "    z[i] = stof(content[i][2]);\n",
        "\n",
        "    rho[i] = stof(content[i][6]);\n",
        "    h[i] = stof(content[i][9]);\n",
        "    mass[i] = stof(content[i][10]);\n",
        "  }\n",
        "\n",
        "  cudaMalloc(&d_x, N*sizeof(float));\n",
        "  cudaMalloc(&d_y, N*sizeof(float));\n",
        "  cudaMalloc(&d_z, N*sizeof(float));\n",
        "\n",
        "  cudaMalloc(&d_rho, N*sizeof(float));\n",
        "  cudaMalloc(&d_h, N*sizeof(float));\n",
        "  cudaMalloc(&d_mass, N*sizeof(float));\n",
        "\n",
        "  // Copy from Host to Device.\n",
        "  cudaMemcpy(d_x, x, N*sizeof(float), cudaMemcpyHostToDevice);\n",
        "  cudaMemcpy(d_y, y, N*sizeof(float), cudaMemcpyHostToDevice);\n",
        "  cudaMemcpy(d_z, z, N*sizeof(float), cudaMemcpyHostToDevice);\n",
        "\n",
        "  cudaMemcpy(d_rho, rho, N*sizeof(float), cudaMemcpyHostToDevice);\n",
        "  cudaMemcpy(d_h, h, N*sizeof(float), cudaMemcpyHostToDevice);\n",
        "  cudaMemcpy(d_mass, mass, N*sizeof(float), cudaMemcpyHostToDevice);\n",
        "\n",
        "  // Launching the kernel on GPU\n",
        "  int blockSize = 256; // number of threads in a block\n",
        "  int gridSize = (N + blockSize - 1) / blockSize; // Number of blocks in a grid\n",
        "\n",
        "  getDensity<<<gridSize, blockSize>>>(d_x, d_y, d_z, d_mass, d_h, d_rho);\n",
        "\n",
        "  // Wait for the GPU to finish before accessing the Host\n",
        "  cudaDeviceSynchronize();\n",
        "\n",
        "\n",
        "  // visual inspection\n",
        "  for(int i = N-10; i < N; i++){\n",
        "    cout << rho[i] << endl;\n",
        "  }\n",
        "\n",
        "  // Free memory.\n",
        "  cudaFree(d_x);\n",
        "  cudaFree(d_y);\n",
        "  cudaFree(d_z);\n",
        "\n",
        "  cudaFree(d_rho);\n",
        "  cudaFree(d_h);\n",
        "  cudaFree(d_mass);\n",
        "\n",
        "  delete[] x;\n",
        "  delete[] y;\n",
        "  delete[] z;\n",
        "\n",
        "  delete[] rho;\n",
        "  delete[] h;\n",
        "  delete[] mass;\n",
        "\n",
        "}"
      ]
    },
    {
      "cell_type": "code",
      "source": [
        "%%shell\n",
        "nvcc test.cu -o test"
      ],
      "metadata": {
        "colab": {
          "base_uri": "https://localhost:8080/"
        },
        "id": "aMvQZSMiEYq2",
        "outputId": "35f2a3a5-340c-4547-d388-3d1d0e9dfcbb"
      },
      "execution_count": 18,
      "outputs": [
        {
          "output_type": "execute_result",
          "data": {
            "text/plain": []
          },
          "metadata": {},
          "execution_count": 18
        }
      ]
    },
    {
      "cell_type": "code",
      "source": [
        "%%shell\n",
        "./test"
      ],
      "metadata": {
        "colab": {
          "base_uri": "https://localhost:8080/"
        },
        "id": "r7DAvwMHEcIM",
        "outputId": "9d05ed2d-50ab-4a72-da05-3d6db487f010"
      },
      "execution_count": 19,
      "outputs": [
        {
          "output_type": "stream",
          "name": "stdout",
          "text": [
            "0.415199\n",
            "0.316639\n",
            "0.221243\n",
            "0.323365\n",
            "0.205203\n",
            "0.143352\n",
            "0.213201\n",
            "0.596869\n",
            "0.17019\n",
            "0.173833\n"
          ]
        },
        {
          "output_type": "execute_result",
          "data": {
            "text/plain": []
          },
          "metadata": {},
          "execution_count": 19
        }
      ]
    },
    {
      "cell_type": "code",
      "source": [
        "%%shell\n",
        "nvprof ./test"
      ],
      "metadata": {
        "colab": {
          "base_uri": "https://localhost:8080/"
        },
        "id": "iKWFhJFRFhWE",
        "outputId": "37fdd89f-ee1a-421d-fc98-6fc358c7b632"
      },
      "execution_count": 20,
      "outputs": [
        {
          "output_type": "stream",
          "name": "stdout",
          "text": [
            "==420== NVPROF is profiling process 420, command: ./test\n",
            "0.415199\n",
            "0.316639\n",
            "0.221243\n",
            "0.323365\n",
            "0.205203\n",
            "0.143352\n",
            "0.213201\n",
            "0.596869\n",
            "0.17019\n",
            "0.173833\n",
            "==420== Profiling application: ./test\n",
            "==420== Profiling result:\n",
            "            Type  Time(%)      Time     Calls       Avg       Min       Max  Name\n",
            " GPU activities:   99.95%  507.76ms         1  507.76ms  507.76ms  507.76ms  getDensity(float*, float*, float*, float*, float*, float*)\n",
            "                    0.05%  272.79us         6  45.465us  45.119us  45.951us  [CUDA memcpy HtoD]\n",
            "      API calls:   60.97%  507.81ms         1  507.81ms  507.81ms  507.81ms  cudaDeviceSynchronize\n",
            "                   38.81%  323.23ms         6  53.872ms  2.5930us  323.12ms  cudaMalloc\n",
            "                    0.12%  1.0182ms         6  169.70us  138.81us  188.33us  cudaMemcpy\n",
            "                    0.04%  359.69us         1  359.69us  359.69us  359.69us  cuDeviceTotalMem\n",
            "                    0.03%  258.18us         6  43.030us  2.8320us  146.32us  cudaFree\n",
            "                    0.02%  163.04us       101  1.6140us     130ns  71.207us  cuDeviceGetAttribute\n",
            "                    0.00%  30.133us         1  30.133us  30.133us  30.133us  cuDeviceGetName\n",
            "                    0.00%  28.639us         1  28.639us  28.639us  28.639us  cudaLaunchKernel\n",
            "                    0.00%  5.9940us         1  5.9940us  5.9940us  5.9940us  cuDeviceGetPCIBusId\n",
            "                    0.00%  1.6290us         2     814ns     191ns  1.4380us  cuDeviceGet\n",
            "                    0.00%  1.5790us         3     526ns     188ns  1.0540us  cuDeviceGetCount\n",
            "                    0.00%     305ns         1     305ns     305ns     305ns  cuDeviceGetUuid\n"
          ]
        },
        {
          "output_type": "execute_result",
          "data": {
            "text/plain": []
          },
          "metadata": {},
          "execution_count": 20
        }
      ]
    },
    {
      "cell_type": "code",
      "source": [],
      "metadata": {
        "id": "F15JsW-WF386"
      },
      "execution_count": null,
      "outputs": []
    }
  ]
}