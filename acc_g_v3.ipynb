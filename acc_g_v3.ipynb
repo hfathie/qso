{
  "nbformat": 4,
  "nbformat_minor": 0,
  "metadata": {
    "colab": {
      "provenance": [],
      "authorship_tag": "ABX9TyOsFy1bZYp9XNPVi34A9m+F",
      "include_colab_link": true
    },
    "kernelspec": {
      "name": "python3",
      "display_name": "Python 3"
    },
    "language_info": {
      "name": "python"
    },
    "accelerator": "GPU",
    "gpuClass": "standard"
  },
  "cells": [
    {
      "cell_type": "markdown",
      "metadata": {
        "id": "view-in-github",
        "colab_type": "text"
      },
      "source": [
        "<a href=\"https://colab.research.google.com/github/hfathie/qso/blob/master/acc_g_v3.ipynb\" target=\"_parent\"><img src=\"https://colab.research.google.com/assets/colab-badge.svg\" alt=\"Open In Colab\"/></a>"
      ]
    },
    {
      "cell_type": "code",
      "execution_count": 1,
      "metadata": {
        "colab": {
          "base_uri": "https://localhost:8080/"
        },
        "id": "t7_4090Bmebx",
        "outputId": "2b93914f-bf8d-42d9-e226-448bbbed04e9"
      },
      "outputs": [
        {
          "output_type": "stream",
          "name": "stdout",
          "text": [
            "Writing test.cu\n"
          ]
        }
      ],
      "source": [
        "%%writefile test.cu\n",
        "#include <iostream>\n",
        "#include <fstream>\n",
        "using namespace std;\n",
        "\n",
        "const int N = 70000;\n",
        "const float G = 1.0f;\n",
        "const float mSPH = 1.0f / (N/2);\n",
        "\n",
        "\n",
        "__global__ void acc_g(float *x, float *y, float *z, float *eps, float *accx, float *accy, float *accz, float *mass){\n",
        "  int i = threadIdx.x + blockIdx.x * blockDim.x;\n",
        "\n",
        "  if(i < N){\n",
        "\n",
        "    float dx, dy, dz, rr, inv_r3, epsij, q, q2, q3, q4, q5, q6, fk;\n",
        "    double accxt = 0.0f, accyt = 0.0f, acczt = 0.0f;\n",
        "    for(int j = 0; j < N; j++){\n",
        "      dx = x[j] - x[i];\n",
        "      dy = y[j] - y[i];\n",
        "      dz = z[j] - z[i];\n",
        "\n",
        "      rr = sqrt(dx*dx + dy*dy + dz*dz);\n",
        "      inv_r3 = 1.0f / (rr*rr*rr);\n",
        "      epsij = 0.5f * (eps[i] + eps[j]);\n",
        "      q = rr/epsij;\n",
        "      q2 = q*q;\n",
        "      q3 = q2 * q;\n",
        "      q4 = q3 * q;\n",
        "      q5 = q4 * q;\n",
        "      q6 = q5 * q;\n",
        "\n",
        "      if(q <= 1.0f){\n",
        "        fk = (1.0f/(epsij*epsij*epsij)) * ((4.0f/3.0f) - (6.0f/5.0f)*q2 + (1.0f/2.0f)*q3);\n",
        "      }\n",
        "\n",
        "      if((q > 1.0f) && (q <= 2.0f)){\n",
        "        fk = inv_r3 * ((-1.0f/15.0f) + (8.0f/3.0f)*q3 - 3.0f*q4 + (6.0f/5.0f)*q5 - (1.0f/6.0f)*q6);\n",
        "      }\n",
        "\n",
        "      if(q > 2.0f){\n",
        "        fk = inv_r3;\n",
        "      }\n",
        "\n",
        "      accxt += G * fk * dx * mass[j];\n",
        "      accyt += G * fk * dy * mass[j];\n",
        "      acczt += G * fk * dz * mass[j];\n",
        "    }\n",
        "    accx[i] = accxt;\n",
        "    accy[i] = accyt;\n",
        "    accz[i] = acczt;\n",
        "  }\n",
        "\n",
        "}\n",
        "\n",
        "\n",
        "\n",
        "int main(){\n",
        "\n",
        "  // Reading the file containing x, y, z, and h.\n",
        "  ifstream infile(\"data.csv\");\n",
        "  float xt, yt, zt, ht;\n",
        "  \n",
        "  float **data = new float*[N];\n",
        "  for(int i = 0; i < N; i++){\n",
        "    data[i] = new float[4];\n",
        "  }\n",
        "\n",
        "  for(int i = 0; i < N; i++){\n",
        "    data[i][0] = 0.0f;\n",
        "    data[i][1] = 0.0f;\n",
        "    data[i][2] = 0.0f;\n",
        "    data[i][3] = 0.0f;\n",
        "  }\n",
        "\n",
        "  if(infile.is_open()){\n",
        "    for(int i = 0; i < N; i++){\n",
        "      infile >> xt >> yt >> zt >> ht;\n",
        "      data[i][0] = xt;\n",
        "      data[i][1] = yt;\n",
        "      data[i][2] = zt;\n",
        "      data[i][3] = ht;\n",
        "    }\n",
        "  }\n",
        "\n",
        "\n",
        "  // creating x, y, z arrays in Shared Memorty containing random values between 0 and 1.0\n",
        "  float *x, *d_x, *y, *d_y, *z, *d_z, *eps, *d_eps, *accx, *accy, *accz, *d_accx, *d_accy, *d_accz, *mass, *d_mass;\n",
        "  x = new float[N];\n",
        "  y = new float[N];\n",
        "  z = new float[N];\n",
        "\n",
        "  accx = new float[N];\n",
        "  accy = new float[N];\n",
        "  accz = new float[N];\n",
        "\n",
        "  eps = new float[N];\n",
        "  mass = new float[N];\n",
        "\n",
        "  cudaMalloc(&d_x, N*sizeof(float));\n",
        "  cudaMalloc(&d_y, N*sizeof(float));\n",
        "  cudaMalloc(&d_z, N*sizeof(float));\n",
        "\n",
        "  cudaMalloc(&d_accx, N*sizeof(float));\n",
        "  cudaMalloc(&d_accy, N*sizeof(float));\n",
        "  cudaMalloc(&d_accz, N*sizeof(float));\n",
        "\n",
        "  cudaMalloc(&d_eps, N*sizeof(float));\n",
        "  cudaMalloc(&d_mass, N*sizeof(float));\n",
        "\n",
        "  // Initialize x, y, and z on the Host.\n",
        "  for(int i = 0; i < N; i++){\n",
        "    x[i] = data[i][0];\n",
        "    y[i] = data[i][1];\n",
        "    z[i] = data[i][2];\n",
        "\n",
        "    accx[i] = 0.0f;\n",
        "    accy[i] = 0.0f;\n",
        "    accz[i] = 0.0f;\n",
        "\n",
        "    eps[i] = 0.0001f;\n",
        "    mass[i] = mSPH;\n",
        "  }\n",
        "\n",
        "  // Copy from Host to Device.\n",
        "  cudaMemcpy(d_x, x, N*sizeof(float), cudaMemcpyHostToDevice);\n",
        "  cudaMemcpy(d_y, y, N*sizeof(float), cudaMemcpyHostToDevice);\n",
        "  cudaMemcpy(d_z, z, N*sizeof(float), cudaMemcpyHostToDevice);\n",
        "\n",
        "  cudaMemcpy(d_accx, accx, N*sizeof(float), cudaMemcpyHostToDevice);\n",
        "  cudaMemcpy(d_accy, accy, N*sizeof(float), cudaMemcpyHostToDevice);\n",
        "  cudaMemcpy(d_accz, accz, N*sizeof(float), cudaMemcpyHostToDevice);\n",
        "\n",
        "  cudaMemcpy(d_eps, eps, N*sizeof(float), cudaMemcpyHostToDevice);\n",
        "  cudaMemcpy(d_mass, mass, N*sizeof(float), cudaMemcpyHostToDevice);\n",
        "\n",
        "\n",
        "  // Launching the kernel on GPU\n",
        "  int blockSize = 256; // number of threads in a block\n",
        "  int gridSize = (N + blockSize - 1) / blockSize; // Number of blocks in a grid\n",
        "\n",
        "  acc_g<<<gridSize, blockSize>>>(d_x, d_y, d_z, d_eps, d_accx, d_accy, d_accz, d_mass);\n",
        "\n",
        "  // Wait for the GPU to finish before accessing the Host\n",
        "  cudaDeviceSynchronize();\n",
        "\n",
        "  // Copy from Device to Host.\n",
        "  cudaMemcpy(accx, d_accx, N*sizeof(float), cudaMemcpyDeviceToHost);\n",
        "  cudaMemcpy(accy, d_accy, N*sizeof(float), cudaMemcpyDeviceToHost);\n",
        "  cudaMemcpy(accz, d_accz, N*sizeof(float), cudaMemcpyDeviceToHost);\n",
        "\n",
        "  // visual inspection\n",
        "  for(int i = 69990; i < 69999; i++){\n",
        "    //cout << data[i][0] << ' ' << data[i][1] << ' ' << data[i][2] << endl;\n",
        "    cout << accx[i] << ' ' << accy[i] << ' ' << accz[i] << endl;\n",
        "  }\n",
        "\n",
        "  // Output to a file\n",
        "  ofstream outfile(\"acc_g_from_cpp.csv\");\n",
        "  if(outfile.is_open()){\n",
        "    for(int i = 0; i < N; i++){\n",
        "      outfile << accx[i] << \",\" << accy[i] << \",\" << accz[i] << endl;\n",
        "    }\n",
        "  }else cout << \"Unable to open file !\";\n",
        "\n",
        "  // Free memory\n",
        "  cudaFree(d_x);\n",
        "  cudaFree(d_y);\n",
        "  cudaFree(d_z);\n",
        "\n",
        "  cudaFree(d_accx);\n",
        "  cudaFree(d_accy);\n",
        "  cudaFree(d_accz);\n",
        "\n",
        "  cudaFree(d_eps);\n",
        "  cudaFree(d_mass);\n",
        "\n",
        "  delete[] data;\n",
        "  delete[] x;\n",
        "  delete[] y;\n",
        "  delete[] z;\n",
        "\n",
        "  delete[] accx;\n",
        "  delete[] accy;\n",
        "  delete[] accz;\n",
        "\n",
        "  delete[] eps;\n",
        "  delete[] mass;\n",
        "\n",
        "}"
      ]
    },
    {
      "cell_type": "code",
      "source": [
        "%%shell\n",
        "nvcc test.cu -o test"
      ],
      "metadata": {
        "colab": {
          "base_uri": "https://localhost:8080/"
        },
        "id": "IgCutUTLnK0v",
        "outputId": "92d3c522-5402-4e35-afe0-a8e4b86f0dba"
      },
      "execution_count": 2,
      "outputs": [
        {
          "output_type": "execute_result",
          "data": {
            "text/plain": []
          },
          "metadata": {},
          "execution_count": 2
        }
      ]
    },
    {
      "cell_type": "code",
      "source": [
        "%%shell\n",
        "./test"
      ],
      "metadata": {
        "colab": {
          "base_uri": "https://localhost:8080/"
        },
        "id": "se5kKhMsnRuG",
        "outputId": "7ce516ae-c46c-4c12-88ba-1623ed0c2ecf"
      },
      "execution_count": 3,
      "outputs": [
        {
          "output_type": "stream",
          "name": "stdout",
          "text": [
            "-0.631126 0.419961 -0.550773\n",
            "-0.0120095 0.536762 0.944694\n",
            "0.842635 0.696079 0.0260362\n",
            "0.170091 -0.86404 0.486797\n",
            "0.0522272 -0.117482 -0.723705\n",
            "0.164239 -0.916709 -0.611625\n",
            "-1.0732 0.115883 -0.067351\n",
            "0.738021 0.54477 -0.0451168\n",
            "-0.719392 0.505126 0.146754\n"
          ]
        },
        {
          "output_type": "execute_result",
          "data": {
            "text/plain": []
          },
          "metadata": {},
          "execution_count": 3
        }
      ]
    },
    {
      "cell_type": "code",
      "source": [
        "%%shell\n",
        "nvprof ./test"
      ],
      "metadata": {
        "colab": {
          "base_uri": "https://localhost:8080/"
        },
        "id": "f96qgWq1puNz",
        "outputId": "3e7cb39e-fa04-4b86-fb12-804d87125c56"
      },
      "execution_count": 4,
      "outputs": [
        {
          "output_type": "stream",
          "name": "stdout",
          "text": [
            "==174== NVPROF is profiling process 174, command: ./test\n",
            "-0.631126 0.419961 -0.550773\n",
            "-0.0120095 0.536762 0.944694\n",
            "0.842635 0.696079 0.0260362\n",
            "0.170091 -0.86404 0.486797\n",
            "0.0522272 -0.117482 -0.723705\n",
            "0.164239 -0.916709 -0.611625\n",
            "-1.0732 0.115883 -0.067351\n",
            "0.738021 0.54477 -0.0451168\n",
            "-0.719392 0.505126 0.146754\n",
            "==174== Profiling application: ./test\n",
            "==174== Profiling result:\n",
            "            Type  Time(%)      Time     Calls       Avg       Min       Max  Name\n",
            " GPU activities:   99.94%  417.27ms         1  417.27ms  417.27ms  417.27ms  acc_g(float*, float*, float*, float*, float*, float*, float*, float*)\n",
            "                    0.05%  203.55us         8  25.443us  25.247us  26.304us  [CUDA memcpy HtoD]\n",
            "                    0.02%  67.391us         3  22.463us  22.208us  22.624us  [CUDA memcpy DtoH]\n",
            "      API calls:   57.96%  417.29ms         1  417.29ms  417.29ms  417.29ms  cudaDeviceSynchronize\n",
            "                   41.78%  300.81ms         8  37.601ms  2.2090us  300.68ms  cudaMalloc\n",
            "                    0.14%  1.0310ms        11  93.726us  86.897us  124.82us  cudaMemcpy\n",
            "                    0.05%  350.53us         1  350.53us  350.53us  350.53us  cuDeviceTotalMem\n",
            "                    0.04%  301.29us         8  37.661us  2.2790us  174.25us  cudaFree\n",
            "                    0.02%  179.36us       101  1.7750us     129ns  85.687us  cuDeviceGetAttribute\n",
            "                    0.00%  28.434us         1  28.434us  28.434us  28.434us  cudaLaunchKernel\n",
            "                    0.00%  27.481us         1  27.481us  27.481us  27.481us  cuDeviceGetName\n",
            "                    0.00%  6.5020us         1  6.5020us  6.5020us  6.5020us  cuDeviceGetPCIBusId\n",
            "                    0.00%  1.5970us         3     532ns     204ns     858ns  cuDeviceGetCount\n",
            "                    0.00%  1.2640us         2     632ns     304ns     960ns  cuDeviceGet\n",
            "                    0.00%     312ns         1     312ns     312ns     312ns  cuDeviceGetUuid\n"
          ]
        },
        {
          "output_type": "execute_result",
          "data": {
            "text/plain": []
          },
          "metadata": {},
          "execution_count": 4
        }
      ]
    },
    {
      "cell_type": "code",
      "source": [
        "%%writefile test.cu\n",
        "#include <iostream>\n",
        "#include <fstream>\n",
        "using namespace std;\n",
        "\n",
        "const int N = 70000;\n",
        "const double G = 1.0f;\n",
        "const double mSPH = 1.0f / (N/2);\n",
        "\n",
        "\n",
        "__global__ void acc_g(double *x, double *y, double *z, double *eps, double *accx, double *accy, double *accz, double *mass){\n",
        "  int i = threadIdx.x + blockIdx.x * blockDim.x;\n",
        "\n",
        "  if(i < N){\n",
        "\n",
        "    double dx, dy, dz, rr, inv_r3, epsij, q, q2, q3, q4, q5, q6, fk;\n",
        "    double accxt = 0.0f, accyt = 0.0f, acczt = 0.0f;\n",
        "    for(int j = 0; j < N; j++){\n",
        "      dx = x[j] - x[i];\n",
        "      dy = y[j] - y[i];\n",
        "      dz = z[j] - z[i];\n",
        "\n",
        "      rr = sqrt(dx*dx + dy*dy + dz*dz);\n",
        "      inv_r3 = 1.0f / (rr*rr*rr);\n",
        "      epsij = 0.5f * (eps[i] + eps[j]);\n",
        "      q = rr/epsij;\n",
        "      q2 = q*q;\n",
        "      q3 = q2 * q;\n",
        "      q4 = q3 * q;\n",
        "      q5 = q4 * q;\n",
        "      q6 = q5 * q;\n",
        "\n",
        "      if(q <= 1.0f){\n",
        "        fk = (1.0f/(epsij*epsij*epsij)) * ((4.0f/3.0f) - (6.0f/5.0f)*q2 + (1.0f/2.0f)*q3);\n",
        "      }\n",
        "\n",
        "      if((q > 1.0f) && (q <= 2.0f)){\n",
        "        fk = inv_r3 * ((-1.0f/15.0f) + (8.0f/3.0f)*q3 - 3.0f*q4 + (6.0f/5.0f)*q5 - (1.0f/6.0f)*q6);\n",
        "      }\n",
        "\n",
        "      if(q > 2.0f){\n",
        "        fk = inv_r3;\n",
        "      }\n",
        "\n",
        "      accxt += G * fk * dx * mass[j];\n",
        "      accyt += G * fk * dy * mass[j];\n",
        "      acczt += G * fk * dz * mass[j];\n",
        "    }\n",
        "    accx[i] = accxt;\n",
        "    accy[i] = accyt;\n",
        "    accz[i] = acczt;\n",
        "  }\n",
        "\n",
        "}\n",
        "\n",
        "\n",
        "\n",
        "int main(){\n",
        "\n",
        "  // Reading the file containing x, y, z, and h.\n",
        "  ifstream infile(\"data.csv\");\n",
        "  double xt, yt, zt, ht;\n",
        "  \n",
        "  double **data = new double*[N];\n",
        "  for(int i = 0; i < N; i++){\n",
        "    data[i] = new double[4];\n",
        "  }\n",
        "\n",
        "  for(int i = 0; i < N; i++){\n",
        "    data[i][0] = 0.0f;\n",
        "    data[i][1] = 0.0f;\n",
        "    data[i][2] = 0.0f;\n",
        "    data[i][3] = 0.0f;\n",
        "  }\n",
        "\n",
        "  if(infile.is_open()){\n",
        "    for(int i = 0; i < N; i++){\n",
        "      infile >> xt >> yt >> zt >> ht;\n",
        "      data[i][0] = xt;\n",
        "      data[i][1] = yt;\n",
        "      data[i][2] = zt;\n",
        "      data[i][3] = ht;\n",
        "    }\n",
        "  }\n",
        "\n",
        "\n",
        "  // creating x, y, z arrays in Shared Memorty containing random values between 0 and 1.0\n",
        "  double *x, *d_x, *y, *d_y, *z, *d_z, *eps, *d_eps, *accx, *accy, *accz, *d_accx, *d_accy, *d_accz, *mass, *d_mass;\n",
        "  x = new double[N];\n",
        "  y = new double[N];\n",
        "  z = new double[N];\n",
        "\n",
        "  accx = new double[N];\n",
        "  accy = new double[N];\n",
        "  accz = new double[N];\n",
        "\n",
        "  eps = new double[N];\n",
        "  mass = new double[N];\n",
        "\n",
        "  cudaMalloc(&d_x, N*sizeof(double));\n",
        "  cudaMalloc(&d_y, N*sizeof(double));\n",
        "  cudaMalloc(&d_z, N*sizeof(double));\n",
        "\n",
        "  cudaMalloc(&d_accx, N*sizeof(double));\n",
        "  cudaMalloc(&d_accy, N*sizeof(double));\n",
        "  cudaMalloc(&d_accz, N*sizeof(double));\n",
        "\n",
        "  cudaMalloc(&d_eps, N*sizeof(double));\n",
        "  cudaMalloc(&d_mass, N*sizeof(double));\n",
        "\n",
        "  // Initialize x, y, and z on the Host.\n",
        "  for(int i = 0; i < N; i++){\n",
        "    x[i] = data[i][0];\n",
        "    y[i] = data[i][1];\n",
        "    z[i] = data[i][2];\n",
        "\n",
        "    accx[i] = 0.0f;\n",
        "    accy[i] = 0.0f;\n",
        "    accz[i] = 0.0f;\n",
        "\n",
        "    eps[i] = 0.0001f;\n",
        "    mass[i] = mSPH;\n",
        "  }\n",
        "\n",
        "  // Copy from Host to Device.\n",
        "  cudaMemcpy(d_x, x, N*sizeof(double), cudaMemcpyHostToDevice);\n",
        "  cudaMemcpy(d_y, y, N*sizeof(double), cudaMemcpyHostToDevice);\n",
        "  cudaMemcpy(d_z, z, N*sizeof(double), cudaMemcpyHostToDevice);\n",
        "\n",
        "  cudaMemcpy(d_accx, accx, N*sizeof(double), cudaMemcpyHostToDevice);\n",
        "  cudaMemcpy(d_accy, accy, N*sizeof(double), cudaMemcpyHostToDevice);\n",
        "  cudaMemcpy(d_accz, accz, N*sizeof(double), cudaMemcpyHostToDevice);\n",
        "\n",
        "  cudaMemcpy(d_eps, eps, N*sizeof(double), cudaMemcpyHostToDevice);\n",
        "  cudaMemcpy(d_mass, mass, N*sizeof(double), cudaMemcpyHostToDevice);\n",
        "\n",
        "\n",
        "  // Launching the kernel on GPU\n",
        "  int blockSize = 256; // number of threads in a block\n",
        "  int gridSize = (N + blockSize - 1) / blockSize; // Number of blocks in a grid\n",
        "\n",
        "  acc_g<<<gridSize, blockSize>>>(d_x, d_y, d_z, d_eps, d_accx, d_accy, d_accz, d_mass);\n",
        "\n",
        "  // Wait for the GPU to finish before accessing the Host\n",
        "  cudaDeviceSynchronize();\n",
        "\n",
        "  // Copy from Device to Host.\n",
        "  cudaMemcpy(accx, d_accx, N*sizeof(double), cudaMemcpyDeviceToHost);\n",
        "  cudaMemcpy(accy, d_accy, N*sizeof(double), cudaMemcpyDeviceToHost);\n",
        "  cudaMemcpy(accz, d_accz, N*sizeof(double), cudaMemcpyDeviceToHost);\n",
        "\n",
        "  // visual inspection\n",
        "  for(int i = 69990; i < 69999; i++){\n",
        "    //cout << data[i][0] << ' ' << data[i][1] << ' ' << data[i][2] << endl;\n",
        "    cout << accx[i] << ' ' << accy[i] << ' ' << accz[i] << endl;\n",
        "  }\n",
        "\n",
        "  // Output to a file\n",
        "  ofstream outfile(\"acc_g_from_cpp.csv\");\n",
        "  if(outfile.is_open()){\n",
        "    for(int i = 0; i < N; i++){\n",
        "      outfile << accx[i] << \",\" << accy[i] << \",\" << accz[i] << endl;\n",
        "    }\n",
        "  }else cout << \"Unable to open file !\";\n",
        "\n",
        "  // Free memory\n",
        "  cudaFree(d_x);\n",
        "  cudaFree(d_y);\n",
        "  cudaFree(d_z);\n",
        "\n",
        "  cudaFree(d_accx);\n",
        "  cudaFree(d_accy);\n",
        "  cudaFree(d_accz);\n",
        "\n",
        "  cudaFree(d_eps);\n",
        "  cudaFree(d_mass);\n",
        "\n",
        "  delete[] data;\n",
        "  delete[] x;\n",
        "  delete[] y;\n",
        "  delete[] z;\n",
        "\n",
        "  delete[] accx;\n",
        "  delete[] accy;\n",
        "  delete[] accz;\n",
        "\n",
        "  delete[] eps;\n",
        "  delete[] mass;\n",
        "\n",
        "}"
      ],
      "metadata": {
        "colab": {
          "base_uri": "https://localhost:8080/"
        },
        "id": "VxGSI2wLpyLv",
        "outputId": "ac612431-18dd-498c-dcbd-e35654796520"
      },
      "execution_count": 16,
      "outputs": [
        {
          "output_type": "stream",
          "name": "stdout",
          "text": [
            "Overwriting test.cu\n"
          ]
        }
      ]
    },
    {
      "cell_type": "code",
      "source": [
        "%%shell\n",
        "nvcc test.cu -o test"
      ],
      "metadata": {
        "colab": {
          "base_uri": "https://localhost:8080/"
        },
        "id": "s85pOPY5yTRu",
        "outputId": "b6f7a761-5c4d-4d93-f8d2-7725c781ac06"
      },
      "execution_count": 17,
      "outputs": [
        {
          "output_type": "execute_result",
          "data": {
            "text/plain": []
          },
          "metadata": {},
          "execution_count": 17
        }
      ]
    },
    {
      "cell_type": "code",
      "source": [
        "%%shell\n",
        "./test"
      ],
      "metadata": {
        "colab": {
          "base_uri": "https://localhost:8080/"
        },
        "id": "PtE0Wcchydm1",
        "outputId": "dcc83a8d-6a0c-4f6c-c7a3-768c730e7840"
      },
      "execution_count": 18,
      "outputs": [
        {
          "output_type": "stream",
          "name": "stdout",
          "text": [
            "-0.631124 0.419964 -0.550772\n",
            "-0.0120095 0.536762 0.944694\n",
            "0.842635 0.696079 0.0260362\n",
            "0.170091 -0.86404 0.486797\n",
            "0.0522273 -0.117482 -0.723705\n",
            "0.164239 -0.916709 -0.611623\n",
            "-1.0732 0.115883 -0.0673509\n",
            "0.738022 0.544769 -0.0451164\n",
            "-0.719392 0.505126 0.146754\n"
          ]
        },
        {
          "output_type": "execute_result",
          "data": {
            "text/plain": []
          },
          "metadata": {},
          "execution_count": 18
        }
      ]
    },
    {
      "cell_type": "code",
      "source": [
        "%%shell\n",
        "nvprof ./test"
      ],
      "metadata": {
        "colab": {
          "base_uri": "https://localhost:8080/"
        },
        "id": "MPQzs3XkFwpw",
        "outputId": "9c6ff1c6-eaa7-4887-debe-a01b6c556f79"
      },
      "execution_count": 19,
      "outputs": [
        {
          "output_type": "stream",
          "name": "stdout",
          "text": [
            "==370== NVPROF is profiling process 370, command: ./test\n",
            "-0.631124 0.419964 -0.550772\n",
            "-0.0120095 0.536762 0.944694\n",
            "0.842635 0.696079 0.0260362\n",
            "0.170091 -0.86404 0.486797\n",
            "0.0522273 -0.117482 -0.723705\n",
            "0.164239 -0.916709 -0.611623\n",
            "-1.0732 0.115883 -0.0673509\n",
            "0.738022 0.544769 -0.0451164\n",
            "-0.719392 0.505126 0.146754\n",
            "==370== Profiling application: ./test\n",
            "==370== Profiling result:\n",
            "            Type  Time(%)      Time     Calls       Avg       Min       Max  Name\n",
            " GPU activities:   99.97%  1.83117s         1  1.83117s  1.83117s  1.83117s  acc_g(double*, double*, double*, double*, double*, double*, double*, double*)\n",
            "                    0.02%  381.37us         8  47.670us  47.423us  48.063us  [CUDA memcpy HtoD]\n",
            "                    0.01%  131.68us         3  43.892us  43.550us  44.127us  [CUDA memcpy DtoH]\n",
            "      API calls:   86.10%  1.83120s         1  1.83120s  1.83120s  1.83120s  cudaDeviceSynchronize\n",
            "                   13.76%  292.73ms         8  36.591ms  2.6370us  292.51ms  cudaMalloc\n",
            "                    0.09%  1.8833ms        11  171.21us  139.69us  203.77us  cudaMemcpy\n",
            "                    0.02%  377.79us         1  377.79us  377.79us  377.79us  cuDeviceTotalMem\n",
            "                    0.02%  359.69us         8  44.961us  2.4850us  166.00us  cudaFree\n",
            "                    0.01%  187.24us       101  1.8530us     127ns  92.367us  cuDeviceGetAttribute\n",
            "                    0.00%  40.668us         1  40.668us  40.668us  40.668us  cuDeviceGetName\n",
            "                    0.00%  30.303us         1  30.303us  30.303us  30.303us  cudaLaunchKernel\n",
            "                    0.00%  5.8960us         1  5.8960us  5.8960us  5.8960us  cuDeviceGetPCIBusId\n",
            "                    0.00%  3.6250us         3  1.2080us     221ns  1.9880us  cuDeviceGetCount\n",
            "                    0.00%  1.6560us         2     828ns     665ns     991ns  cuDeviceGet\n",
            "                    0.00%     280ns         1     280ns     280ns     280ns  cuDeviceGetUuid\n"
          ]
        },
        {
          "output_type": "execute_result",
          "data": {
            "text/plain": []
          },
          "metadata": {},
          "execution_count": 19
        }
      ]
    },
    {
      "cell_type": "code",
      "source": [],
      "metadata": {
        "id": "IosxamR3GBzO"
      },
      "execution_count": null,
      "outputs": []
    }
  ]
}