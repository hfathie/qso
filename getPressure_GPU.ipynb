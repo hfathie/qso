{
  "nbformat": 4,
  "nbformat_minor": 0,
  "metadata": {
    "colab": {
      "provenance": [],
      "authorship_tag": "ABX9TyO33fSxeqDROHvYeakiUVal",
      "include_colab_link": true
    },
    "kernelspec": {
      "name": "python3",
      "display_name": "Python 3"
    },
    "language_info": {
      "name": "python"
    },
    "accelerator": "GPU",
    "gpuClass": "standard"
  },
  "cells": [
    {
      "cell_type": "markdown",
      "metadata": {
        "id": "view-in-github",
        "colab_type": "text"
      },
      "source": [
        "<a href=\"https://colab.research.google.com/github/hfathie/qso/blob/master/getPressure_GPU.ipynb\" target=\"_parent\"><img src=\"https://colab.research.google.com/assets/colab-badge.svg\" alt=\"Open In Colab\"/></a>"
      ]
    },
    {
      "cell_type": "code",
      "execution_count": 25,
      "metadata": {
        "colab": {
          "base_uri": "https://localhost:8080/"
        },
        "id": "UO-mejUkHa06",
        "outputId": "1aaa6e33-785a-4263-df67-026c5aa5ef3d"
      },
      "outputs": [
        {
          "output_type": "stream",
          "name": "stdout",
          "text": [
            "Overwriting test.cu\n"
          ]
        }
      ],
      "source": [
        "%%writefile test.cu\n",
        "#include <iostream>\n",
        "#include <fstream>\n",
        "#include <cmath>\n",
        "#include <string>\n",
        "#include <vector>\n",
        "#include <sstream>\n",
        "using namespace std;\n",
        "\n",
        "const int N = 131504;\n",
        "\n",
        "float mH = 1.6726e-24; // gram\n",
        "float kB = 1.3807e-16; // cm2 g s-2 K-1\n",
        "float mH2 = 2.7f * mH; \n",
        "\n",
        "float M_sun = 1.98992e+33; // gram\n",
        "float grav_const_in_cgs = 6.67259e-8;// cm3 g-1 s-2\n",
        "\n",
        "float G = 1.0f;\n",
        "\n",
        "float gammah = 5.0f/3.0f;\n",
        "\n",
        "float UnitRadius_in_pc = 2.0f;\n",
        "float UnitRadius_in_cm = 3.086e18 * UnitRadius_in_pc;\n",
        "\n",
        "float UnitMass_in_g = 10.0f * M_sun;\n",
        "float UnitDensity_in_cgs = UnitMass_in_g / UnitRadius_in_cm/UnitRadius_in_cm/UnitRadius_in_cm;\n",
        "float Unit_u_in_cgs = grav_const_in_cgs * UnitMass_in_g / UnitRadius_in_cm;\n",
        "float Unit_P_in_cgs = UnitDensity_in_cgs * Unit_u_in_cgs;\n",
        "\n",
        "\n",
        "__global__ void getPressure(float *P, float *rho, float T_cld, float T_ps, float T_0, float kBmH2,\n",
        "                            float UnitDensity_in_cgs, float Unit_P_in_cgs, float gammah){\n",
        "\n",
        "  int i = threadIdx.x + blockIdx.x * blockDim.x;\n",
        "\n",
        "  if(i < N){\n",
        "\n",
        "    float rhot = rho[i] * UnitDensity_in_cgs;\n",
        "\n",
        "    if(rhot <= 1e-21){\n",
        "      P[i] = rhot * kBmH2 * T_cld / Unit_P_in_cgs;\n",
        "    }\n",
        "\n",
        "    if((rhot > 1e-21) && (rhot <= 2e-21)){\n",
        "      P[i] = rhot * kBmH2 * gammah * T_cld * pow((rhot/2e-21), (gammah - 1.0f)) / Unit_P_in_cgs;\n",
        "    }\n",
        "\n",
        "    if((rhot > 2e-21) && (rhot <= 1e-18)){\n",
        "      P[i] = rhot * kBmH2 * T_ps / Unit_P_in_cgs;\n",
        "    }\n",
        "\n",
        "    if(rhot > 1e-18){\n",
        "      P[i] = rhot * kBmH2 * T_0 * (1.0f + gammah * pow((rhot/1e-14), (gammah - 1.0f))) / Unit_P_in_cgs;\n",
        "    }\n",
        "  }\n",
        "}\n",
        "\n",
        "\n",
        "int main(){\n",
        "\n",
        "  // Reading Hydra file.\n",
        "  string fname = \"Hydra_130k.csv\";\n",
        "\n",
        "  vector<vector<string>> content;\n",
        "  vector<string> row;\n",
        "  string line, word;\n",
        "  \n",
        "  fstream file (fname, ios::in);\n",
        "  if(file.is_open())\n",
        "  {\n",
        "  while(getline(file, line))\n",
        "  {\n",
        "  row.clear();\n",
        "  \n",
        "  stringstream str(line);\n",
        "  \n",
        "  while(getline(str, word, ','))\n",
        "  row.push_back(word);\n",
        "  content.push_back(row);\n",
        "  }\n",
        "  }\n",
        "  else\n",
        "  cout<<\"Could not open the file\\n\";\n",
        "\n",
        "  float *P, *d_P, *rho, *d_rho, T_cld, T_ps, T_0, kBmH2;\n",
        "\n",
        "  T_cld = 10.0f;\n",
        "  T_ps = 10.0f;\n",
        "  T_0 = 10.0f;\n",
        "\n",
        "  kBmH2 = kB/mH2;\n",
        "\n",
        "  rho = new float[N];\n",
        "  P = new float[N];\n",
        "\n",
        "  // 0  1  2  3   4   5    6   7  8  9  10\n",
        "  // x, y, z, vx, vy, vz, rho, P, c, h, m.\n",
        "\n",
        "  for(int i=0; i<N; i++){\n",
        "\n",
        "    rho[i] = stof(content[i][6]);\n",
        "    P[i] = 0.0f;\n",
        "  }\n",
        "\n",
        "  cudaMalloc(&d_rho, N*sizeof(float));\n",
        "  cudaMalloc(&d_P, N*sizeof(float));\n",
        "\n",
        "  // Copy from Host to Device.\n",
        "  cudaMemcpy(d_rho, rho, N*sizeof(float), cudaMemcpyHostToDevice);\n",
        "  cudaMemcpy(d_P, P, N*sizeof(float), cudaMemcpyHostToDevice);\n",
        "\n",
        "  // Launching the kernel on GPU\n",
        "  int blockSize = 256; // number of threads in a block\n",
        "  int gridSize = (N + blockSize - 1) / blockSize; // Number of blocks in a grid\n",
        "\n",
        "  getPressure<<<gridSize, blockSize>>>(d_P, d_rho, T_cld,\n",
        "                                       T_ps, T_0, kBmH2,\n",
        "                                       UnitDensity_in_cgs,\n",
        "                                       Unit_P_in_cgs,\n",
        "                                       gammah);\n",
        "\n",
        "  // Wait for the GPU to finish before accessing the Host\n",
        "  cudaDeviceSynchronize();\n",
        "\n",
        "  // Copy from Device to Host.\n",
        "  cudaMemcpy(P, d_P, N*sizeof(float), cudaMemcpyDeviceToHost);\n",
        "\n",
        "  // visual inspection\n",
        "  for(int i = N-10; i < N; i++){\n",
        "    cout << P[i] << endl;\n",
        "  }\n",
        "\n",
        "\n",
        "}"
      ]
    },
    {
      "cell_type": "code",
      "source": [
        "%%shell\n",
        "nvcc test.cu -o test"
      ],
      "metadata": {
        "colab": {
          "base_uri": "https://localhost:8080/"
        },
        "id": "-iO5LcechfkI",
        "outputId": "a7cbe05a-0675-43a9-db78-17ceb800af58"
      },
      "execution_count": 26,
      "outputs": [
        {
          "output_type": "execute_result",
          "data": {
            "text/plain": []
          },
          "metadata": {},
          "execution_count": 26
        }
      ]
    },
    {
      "cell_type": "code",
      "source": [
        "%%shell\n",
        "./test"
      ],
      "metadata": {
        "colab": {
          "base_uri": "https://localhost:8080/"
        },
        "id": "oZt9z0BRibNL",
        "outputId": "13797c73-a7c4-4db1-fac0-befb995a3623"
      },
      "execution_count": 27,
      "outputs": [
        {
          "output_type": "stream",
          "name": "stdout",
          "text": [
            "0.590059\n",
            "0.449991\n",
            "0.314419\n",
            "0.459549\n",
            "0.291624\n",
            "0.203724\n",
            "0.30299\n",
            "0.848239\n",
            "0.241866\n",
            "0.247042\n"
          ]
        },
        {
          "output_type": "execute_result",
          "data": {
            "text/plain": []
          },
          "metadata": {},
          "execution_count": 27
        }
      ]
    },
    {
      "cell_type": "code",
      "source": [
        "%%shell\n",
        "nvprof ./test"
      ],
      "metadata": {
        "colab": {
          "base_uri": "https://localhost:8080/"
        },
        "id": "rqc7IRsVkt-_",
        "outputId": "8830c1e9-e825-4389-c646-db043a343eb8"
      },
      "execution_count": 28,
      "outputs": [
        {
          "output_type": "stream",
          "name": "stdout",
          "text": [
            "==611== NVPROF is profiling process 611, command: ./test\n",
            "0.590059\n",
            "0.449991\n",
            "0.314419\n",
            "0.459549\n",
            "0.291624\n",
            "0.203724\n",
            "0.30299\n",
            "0.848239\n",
            "0.241866\n",
            "0.247042\n",
            "==611== Profiling application: ./test\n",
            "==611== Profiling result:\n",
            "            Type  Time(%)      Time     Calls       Avg       Min       Max  Name\n",
            " GPU activities:   56.34%  90.848us         2  45.424us  45.280us  45.568us  [CUDA memcpy HtoD]\n",
            "                   26.02%  41.951us         1  41.951us  41.951us  41.951us  [CUDA memcpy DtoH]\n",
            "                   17.64%  28.447us         1  28.447us  28.447us  28.447us  getPressure(float*, float*, float, float, float, float, float, float, float)\n",
            "      API calls:   99.65%  315.51ms         2  157.75ms  6.6220us  315.50ms  cudaMalloc\n",
            "                    0.15%  480.01us         3  160.00us  149.21us  167.33us  cudaMemcpy\n",
            "                    0.11%  343.25us         1  343.25us  343.25us  343.25us  cuDeviceTotalMem\n",
            "                    0.05%  150.83us       101  1.4930us     128ns  64.664us  cuDeviceGetAttribute\n",
            "                    0.02%  50.863us         1  50.863us  50.863us  50.863us  cudaDeviceSynchronize\n",
            "                    0.01%  33.499us         1  33.499us  33.499us  33.499us  cudaLaunchKernel\n",
            "                    0.01%  32.483us         1  32.483us  32.483us  32.483us  cuDeviceGetName\n",
            "                    0.00%  5.5240us         1  5.5240us  5.5240us  5.5240us  cuDeviceGetPCIBusId\n",
            "                    0.00%  2.0080us         2  1.0040us     343ns  1.6650us  cuDeviceGet\n",
            "                    0.00%  1.6620us         3     554ns     186ns  1.1400us  cuDeviceGetCount\n",
            "                    0.00%     296ns         1     296ns     296ns     296ns  cuDeviceGetUuid\n"
          ]
        },
        {
          "output_type": "execute_result",
          "data": {
            "text/plain": []
          },
          "metadata": {},
          "execution_count": 28
        }
      ]
    },
    {
      "cell_type": "code",
      "source": [],
      "metadata": {
        "id": "u12s4rmEl8Ce"
      },
      "execution_count": null,
      "outputs": []
    }
  ]
}