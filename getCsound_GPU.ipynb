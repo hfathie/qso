{
  "nbformat": 4,
  "nbformat_minor": 0,
  "metadata": {
    "colab": {
      "provenance": [],
      "authorship_tag": "ABX9TyN7u1Mt481PlmwerxHPL6i0",
      "include_colab_link": true
    },
    "kernelspec": {
      "name": "python3",
      "display_name": "Python 3"
    },
    "language_info": {
      "name": "python"
    },
    "accelerator": "GPU",
    "gpuClass": "standard"
  },
  "cells": [
    {
      "cell_type": "markdown",
      "metadata": {
        "id": "view-in-github",
        "colab_type": "text"
      },
      "source": [
        "<a href=\"https://colab.research.google.com/github/hfathie/qso/blob/master/getCsound_GPU.ipynb\" target=\"_parent\"><img src=\"https://colab.research.google.com/assets/colab-badge.svg\" alt=\"Open In Colab\"/></a>"
      ]
    },
    {
      "cell_type": "code",
      "execution_count": 10,
      "metadata": {
        "colab": {
          "base_uri": "https://localhost:8080/"
        },
        "id": "RPSSFrN5mXaZ",
        "outputId": "05cf3f6d-21c4-4218-e3c8-80bb54ca6902"
      },
      "outputs": [
        {
          "output_type": "stream",
          "name": "stdout",
          "text": [
            "Overwriting test.cu\n"
          ]
        }
      ],
      "source": [
        "%%writefile test.cu\n",
        "#include <iostream> // iostream, fstream, cmath, string, vector, sstream.\n",
        "#include <fstream>\n",
        "#include <cmath>\n",
        "#include <string>\n",
        "#include <vector>\n",
        "#include <sstream>\n",
        "using namespace std;\n",
        "\n",
        "const int N = 131504;\n",
        "\n",
        "float mH = 1.6726e-24; // gram\n",
        "float kB = 1.3807e-16; // cm2 g s-2 K-1\n",
        "float mH2 = 2.7f * mH; \n",
        "\n",
        "float M_sun = 1.98992e+33; // gram\n",
        "float grav_const_in_cgs = 6.67259e-8;// cm3 g-1 s-2\n",
        "\n",
        "float G = 1.0f;\n",
        "\n",
        "float gammah = 5.0f/3.0f;\n",
        "\n",
        "float UnitRadius_in_pc = 2.0f;\n",
        "float UnitRadius_in_cm = 3.086e18 * UnitRadius_in_pc;\n",
        "\n",
        "float UnitMass_in_g = 10.0f * M_sun;\n",
        "float UnitDensity_in_cgs = UnitMass_in_g / UnitRadius_in_cm/UnitRadius_in_cm/UnitRadius_in_cm;\n",
        "float Unit_u_in_cgs = grav_const_in_cgs * UnitMass_in_g / UnitRadius_in_cm;\n",
        "float Unit_P_in_cgs = UnitDensity_in_cgs * Unit_u_in_cgs;\n",
        "\n",
        "float unitVelocity = sqrt(grav_const_in_cgs * UnitMass_in_g / UnitRadius_in_cm);\n",
        "\n",
        "\n",
        "__global__ void getCsound(float *csnd, float *rho, float T_cld, float T_ps, float T_0, float kBmH2,\n",
        "                          float UnitDensity_in_cgs, float unitVelocity, float gammah){\n",
        "\n",
        "  int i = threadIdx.x + blockIdx.x * blockDim.x;\n",
        "\n",
        "  if(i < N){\n",
        "\n",
        "    float rhot = rho[i] * UnitDensity_in_cgs;\n",
        "\n",
        "    if(rhot <= 1e-21){\n",
        "      csnd[i] = sqrt(kBmH2 * T_cld) / unitVelocity;\n",
        "    }\n",
        "\n",
        "    if((rhot > 1e-21) && (rhot <= 2e-21)){\n",
        "      csnd[i] = sqrt(kBmH2 * gammah * T_cld * pow((rhot/2e-21), (gammah - 1.0f))) / unitVelocity;\n",
        "    }\n",
        "\n",
        "    if((rhot > 2e-21) && (rhot <= 1e-18)){\n",
        "      csnd[i] = sqrt(kBmH2 * T_ps) / unitVelocity;\n",
        "    }\n",
        "\n",
        "    if(rhot > 1e-18){\n",
        "      csnd[i] = sqrt(kBmH2 * T_0 * (1.0f + gammah * pow((rhot/1e-14), (gammah - 1.0f)))) / unitVelocity;\n",
        "    }\n",
        "  }\n",
        "}\n",
        "\n",
        "\n",
        "int main(){\n",
        "\n",
        "  // Reading Hydra file.\n",
        "  string fname = \"Hydra_130k.csv\";\n",
        "\n",
        "  vector<vector<string>> content;\n",
        "  vector<string> row;\n",
        "  string line, word;\n",
        "  \n",
        "  fstream file (fname, ios::in);\n",
        "  if(file.is_open())\n",
        "  {\n",
        "  while(getline(file, line))\n",
        "  {\n",
        "  row.clear();\n",
        "  \n",
        "  stringstream str(line);\n",
        "  \n",
        "  while(getline(str, word, ','))\n",
        "  row.push_back(word);\n",
        "  content.push_back(row);\n",
        "  }\n",
        "  }\n",
        "  else\n",
        "  cout<<\"Could not open the file\\n\";\n",
        "\n",
        "  float *csnd, *d_csnd, *rho, *d_rho, T_cld, T_ps, T_0, kBmH2;\n",
        "\n",
        "  T_cld = 10.0f;\n",
        "  T_ps = 10.0f;\n",
        "  T_0 = 10.0f;\n",
        "\n",
        "  kBmH2 = kB/mH2;\n",
        "\n",
        "  rho = new float[N];\n",
        "  csnd = new float[N];\n",
        "\n",
        "  // 0  1  2  3   4   5    6   7  8  9  10\n",
        "  // x, y, z, vx, vy, vz, rho, P, c, h, m.\n",
        "\n",
        "  for(int i=0; i<N; i++){\n",
        "\n",
        "    rho[i] = stof(content[i][6]);\n",
        "    csnd[i] = 0.0f;\n",
        "  }\n",
        "\n",
        "  cudaMalloc(&d_rho, N*sizeof(float));\n",
        "  cudaMalloc(&d_csnd, N*sizeof(float));\n",
        "\n",
        "  // Copy from Host to Device.\n",
        "  cudaMemcpy(d_rho, rho, N*sizeof(float), cudaMemcpyHostToDevice);\n",
        "  cudaMemcpy(d_csnd, csnd, N*sizeof(float), cudaMemcpyHostToDevice);\n",
        "\n",
        "  // Launching the kernel on GPU\n",
        "  int blockSize = 256; // number of threads in a block\n",
        "  int gridSize = (N + blockSize - 1) / blockSize; // Number of blocks in a grid\n",
        "\n",
        "  getCsound<<<gridSize, blockSize>>>(d_csnd, d_rho, T_cld,\n",
        "                                       T_ps, T_0, kBmH2,\n",
        "                                       UnitDensity_in_cgs,\n",
        "                                       unitVelocity,\n",
        "                                       gammah);\n",
        "\n",
        "  // Wait for the GPU to finish before accessing the Host\n",
        "  cudaDeviceSynchronize();\n",
        "\n",
        "  // Copy from Device to Host.\n",
        "  cudaMemcpy(csnd, d_csnd, N*sizeof(float), cudaMemcpyDeviceToHost);\n",
        "\n",
        "  // visual inspection\n",
        "  for(int i = 0; i < 10; i++){\n",
        "    cout << csnd[i] << endl;\n",
        "  }\n",
        "\n",
        "\n",
        "}"
      ]
    },
    {
      "cell_type": "code",
      "source": [
        "%%shell\n",
        "nvcc test.cu -o test"
      ],
      "metadata": {
        "colab": {
          "base_uri": "https://localhost:8080/"
        },
        "id": "s3YvHg0UvJGq",
        "outputId": "dbd6e7bb-6f84-4e40-9abb-544e9769761a"
      },
      "execution_count": 11,
      "outputs": [
        {
          "output_type": "execute_result",
          "data": {
            "text/plain": []
          },
          "metadata": {},
          "execution_count": 11
        }
      ]
    },
    {
      "cell_type": "code",
      "source": [
        "%%shell\n",
        "./test"
      ],
      "metadata": {
        "colab": {
          "base_uri": "https://localhost:8080/"
        },
        "id": "00m5gw2rvYcq",
        "outputId": "6b811c64-e9c2-49ba-9eab-5fe3bf806779"
      },
      "execution_count": 12,
      "outputs": [
        {
          "output_type": "stream",
          "name": "stdout",
          "text": [
            "1.19212\n",
            "1.19212\n",
            "1.19212\n",
            "1.19212\n",
            "1.19212\n",
            "1.19212\n",
            "1.19212\n",
            "1.19212\n",
            "1.19212\n",
            "1.19212\n"
          ]
        },
        {
          "output_type": "execute_result",
          "data": {
            "text/plain": []
          },
          "metadata": {},
          "execution_count": 12
        }
      ]
    },
    {
      "cell_type": "code",
      "source": [
        "%%shell\n",
        "nvprof ./test"
      ],
      "metadata": {
        "colab": {
          "base_uri": "https://localhost:8080/"
        },
        "id": "CqkSplnivc0C",
        "outputId": "055f9464-5ba9-47ad-b133-dd231cb617a6"
      },
      "execution_count": 13,
      "outputs": [
        {
          "output_type": "stream",
          "name": "stdout",
          "text": [
            "==380== NVPROF is profiling process 380, command: ./test\n",
            "1.19212\n",
            "1.19212\n",
            "1.19212\n",
            "1.19212\n",
            "1.19212\n",
            "1.19212\n",
            "1.19212\n",
            "1.19212\n",
            "1.19212\n",
            "1.19212\n",
            "==380== Profiling application: ./test\n",
            "==380== Profiling result:\n",
            "            Type  Time(%)      Time     Calls       Avg       Min       Max  Name\n",
            " GPU activities:   56.40%  91.102us         2  45.551us  45.503us  45.599us  [CUDA memcpy HtoD]\n",
            "                   25.99%  41.983us         1  41.983us  41.983us  41.983us  [CUDA memcpy DtoH]\n",
            "                   17.61%  28.447us         1  28.447us  28.447us  28.447us  getCsound(float*, float*, float, float, float, float, float, float, float)\n",
            "      API calls:   99.63%  304.97ms         2  152.49ms  4.3260us  304.97ms  cudaMalloc\n",
            "                    0.14%  437.76us         3  145.92us  134.99us  163.83us  cudaMemcpy\n",
            "                    0.12%  361.66us         1  361.66us  361.66us  361.66us  cuDeviceTotalMem\n",
            "                    0.06%  192.71us       101  1.9080us     129ns  98.157us  cuDeviceGetAttribute\n",
            "                    0.02%  52.047us         1  52.047us  52.047us  52.047us  cudaDeviceSynchronize\n",
            "                    0.01%  34.665us         1  34.665us  34.665us  34.665us  cudaLaunchKernel\n",
            "                    0.01%  31.355us         1  31.355us  31.355us  31.355us  cuDeviceGetName\n",
            "                    0.00%  5.3080us         1  5.3080us  5.3080us  5.3080us  cuDeviceGetPCIBusId\n",
            "                    0.00%  2.1270us         3     709ns     331ns  1.4380us  cuDeviceGetCount\n",
            "                    0.00%  1.8590us         2     929ns     257ns  1.6020us  cuDeviceGet\n",
            "                    0.00%     255ns         1     255ns     255ns     255ns  cuDeviceGetUuid\n"
          ]
        },
        {
          "output_type": "execute_result",
          "data": {
            "text/plain": []
          },
          "metadata": {},
          "execution_count": 13
        }
      ]
    },
    {
      "cell_type": "code",
      "source": [],
      "metadata": {
        "id": "pPnKLVk5xXMq"
      },
      "execution_count": null,
      "outputs": []
    }
  ]
}